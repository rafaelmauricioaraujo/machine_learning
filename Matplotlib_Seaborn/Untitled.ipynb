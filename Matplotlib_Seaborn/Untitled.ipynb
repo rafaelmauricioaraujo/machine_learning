{
 "cells": [
  {
   "cell_type": "markdown",
   "metadata": {},
   "source": [
    "# Matplotlib and Seaborn\n",
    "### Bivariate Visualizations - Visualization of two variables \n",
    "\n",
    "01 - Scatterplots for quantitative variables vs quantitative variables\n",
    "\n",
    "02 - Violinplots for quantitative variables vs qualitative variables\n",
    "\n",
    "03 - Clustered bar charts for qualitative variables vs qualitative variables"
   ]
  },
  {
   "cell_type": "code",
   "execution_count": null,
   "metadata": {},
   "outputs": [],
   "source": []
  }
 ],
 "metadata": {
  "kernelspec": {
   "display_name": "Python 3",
   "language": "python",
   "name": "python3"
  },
  "language_info": {
   "codemirror_mode": {
    "name": "ipython",
    "version": 3
   },
   "file_extension": ".py",
   "mimetype": "text/x-python",
   "name": "python",
   "nbconvert_exporter": "python",
   "pygments_lexer": "ipython3",
   "version": "3.7.1"
  }
 },
 "nbformat": 4,
 "nbformat_minor": 2
}
